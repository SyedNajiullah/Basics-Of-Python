{
 "cells": [
  {
   "cell_type": "code",
   "execution_count": 1,
   "id": "4dc4f098",
   "metadata": {},
   "outputs": [
    {
     "name": "stdout",
     "output_type": "stream",
     "text": [
      "[1 2 3 4 5]\n"
     ]
    }
   ],
   "source": [
    "import numpy as np\n",
    "arr = np.array([1,2,3,4,5])\n",
    "print(arr)"
   ]
  },
  {
   "cell_type": "code",
   "execution_count": 2,
   "id": "98083522",
   "metadata": {},
   "outputs": [
    {
     "name": "stdout",
     "output_type": "stream",
     "text": [
      "1\n"
     ]
    }
   ],
   "source": [
    "print(arr.ndim)"
   ]
  },
  {
   "cell_type": "code",
   "execution_count": 9,
   "id": "3fc7a746",
   "metadata": {},
   "outputs": [
    {
     "name": "stdout",
     "output_type": "stream",
     "text": [
      "[[1 2 3]\n",
      " [4 5 6]]\n",
      "2\n",
      "(2, 3)\n",
      "int32\n",
      "4\n",
      "6\n",
      "24\n"
     ]
    }
   ],
   "source": [
    "brr = np.array([[1,2,3], [4,5,6]])\n",
    "print(brr)\n",
    "print(brr.ndim) # NUMBER OF DIMENTIONS \n",
    "print(brr.shape) # ROWS , COLUMNS \n",
    "print(brr.dtype) # ITEM SIZE 32 BIT OR 64 BIT OR ELSE \n",
    "print(brr.itemsize) # ITEM SIZE IN BYTES(ONLY ONE)\n",
    "print(brr.size) # SIZE OF ARRAY(NUMBER OF DIGITS OR CHARECTERS OR STRING TYPE OR ELSE)\n",
    "print(brr.nbytes) # SUM OF NUMBER OF BYTES IN AN ARRAY"
   ]
  },
  {
   "cell_type": "code",
   "execution_count": 10,
   "id": "fe150564",
   "metadata": {},
   "outputs": [
    {
     "name": "stdout",
     "output_type": "stream",
     "text": [
      "8\n"
     ]
    }
   ],
   "source": [
    "arr = np.array([[1,2,3], [4,5,6]], dtype = 'int64') # CAHNGING NUMBER OF BYTES\n",
    "print(arr.itemsize)"
   ]
  },
  {
   "cell_type": "code",
   "execution_count": 23,
   "id": "032f4514",
   "metadata": {},
   "outputs": [
    {
     "name": "stdout",
     "output_type": "stream",
     "text": [
      "12\n",
      "[ 8  9 10 11 12 13 14]\n",
      "[1 2 3 4 5 6 7]\n",
      "[2 9]\n"
     ]
    }
   ],
   "source": [
    "arr = np.array([[1,2,3,4,5,6,7],[8,9,10,11,12,13,14]])\n",
    "print(arr[1,4]) # ROW NUMBER 1 COLUMN NUMBER 4\n",
    "print(arr[1,0:7]) # ROW NUMBER 1 COLUMN NUMBER 0 TILL 7\n",
    "print(arr[0,:]) # PRINTING A SPECIFIC ROW(0 ROW ALL COLUMNS)\n",
    "print(arr[:,1]) # PRINTING A SPECIFIC COLUMN(ALL ROWS 1 COLUMN)"
   ]
  },
  {
   "cell_type": "code",
   "execution_count": 29,
   "id": "b21a6536",
   "metadata": {},
   "outputs": [
    {
     "name": "stdout",
     "output_type": "stream",
     "text": [
      "[[ 1  2  3  4 10 11 12]\n",
      " [ 5  6  7  8 22 33 44]]\n",
      "[ 1  3 10 12]\n"
     ]
    }
   ],
   "source": [
    "#[STARTING INDEX : ENDING INDEX : JUMP SIZE]\n",
    "arr = np.array([[1,2,3,4,10,11,12], [5,6,7,8,22,33,44]])\n",
    "print(arr)\n",
    "print(arr[0,0:7:2]) # ZERO ROW COLUMN STARTING FROM 0 ENDING at 3  WITH A JUMP OF 2\n"
   ]
  },
  {
   "cell_type": "code",
   "execution_count": 30,
   "id": "841653a1",
   "metadata": {},
   "outputs": [
    {
     "name": "stdout",
     "output_type": "stream",
     "text": [
      "[0. 0. 0. 0. 0.]\n",
      "[[0. 0.]\n",
      " [0. 0.]]\n"
     ]
    }
   ],
   "source": [
    "arr = np.zeros(5) # CREATES 5 ROWS\n",
    "brr = np.zeros((2,2)) # CREATES 2 ROWS 2 COLUMNS\n",
    "print(arr)\n",
    "print(brr)"
   ]
  },
  {
   "cell_type": "code",
   "execution_count": 31,
   "id": "c8170a0d",
   "metadata": {},
   "outputs": [
    {
     "name": "stdout",
     "output_type": "stream",
     "text": [
      "[1. 1. 1. 1. 1.]\n",
      "[[1. 1.]\n",
      " [1. 1.]]\n"
     ]
    }
   ],
   "source": [
    "arr = np.ones(5) # CREATES 5 ROWS\n",
    "brr = np.ones((2,2)) # CREATES 2 ROWS 2 COLUMNS\n",
    "print(arr)\n",
    "print(brr)"
   ]
  },
  {
   "cell_type": "code",
   "execution_count": 33,
   "id": "d9aac672",
   "metadata": {},
   "outputs": [
    {
     "name": "stdout",
     "output_type": "stream",
     "text": [
      "[1. 1. 1. 1. 1.]\n",
      "[[5 5]\n",
      " [5 5]]\n"
     ]
    }
   ],
   "source": [
    "# arr = np.full(5) WILL RESULT INTO AN ERROR\n",
    "brr = np.full((2,2), 5) # 2 BY 2 MATRIX WITH VALUE 5 IN THEM \n",
    "print(arr)\n",
    "print(brr)"
   ]
  },
  {
   "cell_type": "code",
   "execution_count": 36,
   "id": "8a422604",
   "metadata": {},
   "outputs": [
    {
     "name": "stdout",
     "output_type": "stream",
     "text": [
      "[[1. 0. 0.]\n",
      " [0. 1. 0.]]\n",
      "\n",
      "\n",
      "[[1. 0. 0. 0. 0.]\n",
      " [0. 1. 0. 0. 0.]\n",
      " [0. 0. 1. 0. 0.]\n",
      " [0. 0. 0. 1. 0.]\n",
      " [0. 0. 0. 0. 1.]]\n"
     ]
    }
   ],
   "source": [
    "arr = np.eye(2,3) # DIAGNAL ALL ONE\n",
    "print(arr)\n",
    "brr = np.eye(5,5)\n",
    "print()\n",
    "print()\n",
    "print(brr)"
   ]
  },
  {
   "cell_type": "code",
   "execution_count": 37,
   "id": "fa61cb1d",
   "metadata": {},
   "outputs": [
    {
     "name": "stdout",
     "output_type": "stream",
     "text": [
      "[3 4 5 6]\n",
      "[-1  0  1  2]\n",
      "[2 4 6 8]\n",
      "[0.5 1.  1.5 2. ]\n"
     ]
    }
   ],
   "source": [
    "a = np.array([1,2,3,4])\n",
    "print(a + 2) # ARRAY ELEMENTS + 2\n",
    "print(a - 2) # ARRAY ELEMENTS - 2\n",
    "print(a * 2) # ARRAY ELEMENTS * 2\n",
    "print(a / 2) # ARRAY ELEMENTS / 2"
   ]
  },
  {
   "cell_type": "code",
   "execution_count": 40,
   "id": "d02baa00",
   "metadata": {},
   "outputs": [
    {
     "name": "stdout",
     "output_type": "stream",
     "text": [
      "[4 5 1 2 3]\n",
      "\n",
      "\n",
      "[6 7 3 4 5]\n"
     ]
    }
   ],
   "source": [
    "# THERE IS NO SUCH THING AS PRE AND POST INCREMENT IN PYTHON\n",
    "arr = np.array([4,5,1,2,3])\n",
    "print(++arr)\n",
    "# print(arr++) WILL RESULT INTO AN ERROR \n",
    "print()\n",
    "print()\n",
    "# CORRECT WAY\n",
    "arr = arr + 2 # OR  arr =+ 2\n",
    "print(arr)"
   ]
  },
  {
   "cell_type": "code",
   "execution_count": 41,
   "id": "d5aa4e7d",
   "metadata": {},
   "outputs": [
    {
     "name": "stdout",
     "output_type": "stream",
     "text": [
      "[ 0.84147098  0.90929743  0.14112001 -0.7568025 ]\n",
      "[ 0.54030231 -0.41614684 -0.9899925  -0.65364362]\n",
      "[ 1.55740772 -2.18503986 -0.14254654  1.15782128]\n"
     ]
    }
   ],
   "source": [
    "arr = np.array([1,2,34,5,321,6,4523,12.3])\n",
    "print(np.sin(a)) # PRINTS SIN\n",
    "print(np.cos(a)) # PRINTS COS \n",
    "print(np.tan(a)) # PRINTS TAN"
   ]
  },
  {
   "cell_type": "code",
   "execution_count": 44,
   "id": "1af2e45d",
   "metadata": {},
   "outputs": [
    {
     "name": "stdout",
     "output_type": "stream",
     "text": [
      "[1, 2, 3, 4]\n",
      "200\n",
      "2\n"
     ]
    }
   ],
   "source": [
    "# ALWAYS USE COPY FUNCTION\n",
    "arr = [1,2,3,4]\n",
    "brr = arr.copy()\n",
    "print(brr)\n",
    "arr[1]  = 200\n",
    "print(arr[1])\n",
    "print(brr[1])"
   ]
  },
  {
   "cell_type": "code",
   "execution_count": 45,
   "id": "3369cfd4",
   "metadata": {},
   "outputs": [
    {
     "name": "stdout",
     "output_type": "stream",
     "text": [
      "[[[[[1 2 3 4]]]]]\n",
      "shape of array : (1, 1, 1, 1, 4)\n"
     ]
    }
   ],
   "source": [
    "# CHANGING NUMBER OF DIMENTIONS\n",
    "\n",
    "arr = np.array([1, 2, 3, 4], ndmin=5)\n",
    "\n",
    "print(arr)\n",
    "print('shape of array :', arr.shape)"
   ]
  },
  {
   "cell_type": "code",
   "execution_count": 46,
   "id": "cbbe8161",
   "metadata": {},
   "outputs": [
    {
     "name": "stdout",
     "output_type": "stream",
     "text": [
      "[[[ 1  2]\n",
      "  [ 3  4]\n",
      "  [ 5  6]]\n",
      "\n",
      " [[ 7  8]\n",
      "  [ 9 10]\n",
      "  [11 12]]]\n",
      "[[[ 1  2  3]\n",
      "  [ 4  5  6]]\n",
      "\n",
      " [[ 7  8  9]\n",
      "  [10 11 12]]]\n",
      "[ 1  2  3  4  5  6  7  8  9 10 11 12]\n"
     ]
    }
   ],
   "source": [
    "arr = np.array([1, 2, 3, 4, 5, 6, 7, 8, 9, 10, 11, 12])\n",
    "newarr = arr.reshape(2, 3, 2)\n",
    "print(newarr)\n",
    "newArray = arr.reshape(2,2,-1)\n",
    "print(newArray)\n",
    "newArray = arr.reshape(-1)\n",
    "print(newArray)"
   ]
  },
  {
   "cell_type": "code",
   "execution_count": 53,
   "id": "610ed5c3",
   "metadata": {},
   "outputs": [
    {
     "name": "stdout",
     "output_type": "stream",
     "text": [
      "[ 7  9 11 13 15]\n",
      "[ 1  2  3  4  5  6  7  8  9 10]\n"
     ]
    }
   ],
   "source": [
    "# CONCATENATE 2 ARRAYS\n",
    "arr = np.array([1,2,3,4,5])\n",
    "brr = np.array([6,7,8,9,10])\n",
    "print(arr+brr) # ADDS CORRESPONDING INDEXES\n",
    "crr = np.concatenate((arr, brr))\n",
    "print(crr)"
   ]
  },
  {
   "cell_type": "code",
   "execution_count": null,
   "id": "4a919549",
   "metadata": {},
   "outputs": [],
   "source": []
  }
 ],
 "metadata": {
  "kernelspec": {
   "display_name": "Python 3 (ipykernel)",
   "language": "python",
   "name": "python3"
  },
  "language_info": {
   "codemirror_mode": {
    "name": "ipython",
    "version": 3
   },
   "file_extension": ".py",
   "mimetype": "text/x-python",
   "name": "python",
   "nbconvert_exporter": "python",
   "pygments_lexer": "ipython3",
   "version": "3.9.13"
  }
 },
 "nbformat": 4,
 "nbformat_minor": 5
}
