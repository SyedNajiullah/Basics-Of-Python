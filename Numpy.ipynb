{
  "nbformat": 4,
  "nbformat_minor": 0,
  "metadata": {
    "colab": {
      "provenance": []
    },
    "kernelspec": {
      "name": "python3",
      "display_name": "Python 3"
    },
    "language_info": {
      "name": "python"
    }
  },
  "cells": [
    {
      "cell_type": "markdown",
      "source": [
        "# Numpy"
      ],
      "metadata": {
        "id": "5Irub2GKsXkq"
      }
    },
    {
      "cell_type": "markdown",
      "source": [
        "# Importing"
      ],
      "metadata": {
        "id": "qTc1nyGIseuV"
      }
    },
    {
      "cell_type": "code",
      "execution_count": 1,
      "metadata": {
        "id": "s4ulPF07sTSq"
      },
      "outputs": [],
      "source": [
        "import numpy as np"
      ]
    },
    {
      "cell_type": "markdown",
      "source": [
        "#Numpy Array vs Normal Array"
      ],
      "metadata": {
        "id": "Ie_u2ETbtATx"
      }
    },
    {
      "cell_type": "markdown",
      "source": [
        "1. Similar datatype\n",
        "\n",
        "Numpy array consists of similar datatypes only but normal lists in python may have different datatyes in it. Secondly if a different data type is forced in numpy array then it might just change the data types of all of the elements of the array"
      ],
      "metadata": {
        "id": "MamFGP6PtHyS"
      }
    },
    {
      "cell_type": "code",
      "source": [
        "numpy_array = np.array([1, 2, 3, 4, 5, True, False]) # True gets changed into 1 and False will change into 0\n",
        "print(numpy_array)\n",
        "numpy_array = np.array([1, 2, 3, 4, 5, 5.43]) # Introducing a decimal value get all the other number to be changed into decimal\n",
        "print(numpy_array)\n",
        "numpy_array = np.array([1, 2, 3, 4, 5, \"Naji\"]) # Introducing a string value get all the other number to be changed into string\n",
        "print(numpy_array)\n",
        "numpy_array = np.array([1, 2, 3, 4, 5, {\"naji\": 123}]) # Introducing a dictionary value will make the it appear at the last\n",
        "print(numpy_array)\n",
        "#List cannot be added in the end this will result in an error\n",
        "# numpy_array = np.array([1, 2, 3, 4, 5, [6, 7]])\n",
        "# print(numpy_array)\n",
        "#Touple cannot be added in the end this will result in an error\n",
        "# numpy_array = np.array([1, 2, 3, 4, 5, (6, 7)])\n",
        "# print(numpy_array)"
      ],
      "metadata": {
        "colab": {
          "base_uri": "https://localhost:8080/"
        },
        "id": "dwVofNCDsdUi",
        "outputId": "2c8ceb22-1bb8-4151-8595-6f60af35963d"
      },
      "execution_count": 21,
      "outputs": [
        {
          "output_type": "stream",
          "name": "stdout",
          "text": [
            "[1 2 3 4 5 1 0]\n",
            "[1.   2.   3.   4.   5.   5.43]\n",
            "['1' '2' '3' '4' '5' 'Naji']\n",
            "[1 2 3 4 5 {'naji': 123}]\n"
          ]
        }
      ]
    },
    {
      "cell_type": "markdown",
      "source": [
        "2. Mathematical operation\n",
        "\n",
        "Only the multiplication operation in numpy array and python list will result it with every element being mulriplied with 2 else any other operation is not pissible. If subtration, dicision and addition is done in normal python list it results in an error. It is solved by using a for loop. But for numpy array all the other operatio will result in it being every element being multiplied with the operation dont to it"
      ],
      "metadata": {
        "id": "OLfrfNAwwLMd"
      }
    },
    {
      "cell_type": "code",
      "source": [
        "python_list = [1, 2, 3, 4 ,5]\n",
        "numpy_array = np.array([1, 2, 3, 4 ,5])\n",
        "\n",
        "# Multiplying python_list with 2 results in just the array being duplicated\n",
        "print(\"Python List: \", python_list * 2)\n",
        "# Multiplying numpy_array with 2 results in with every element being multiplyed by 2\n",
        "print(\"Numpy array: \", numpy_array * 2)\n",
        "\n",
        "# Addition in not possible in python_list. The following code will result in error\n",
        "# print(python_list + 2)\n",
        "# In order to all every element use a for loop\n",
        "print(\"Python List: \")\n",
        "for number in python_list:\n",
        "  print(number + 2, end = \" \")\n",
        "print()\n",
        "# Addition in numpy_array will make every element added by 2.\n",
        "print(\"Numpy array: \", numpy_array + 2)\n",
        "\n",
        "# Subtraction in not possible in python_list. The following code will result in error\n",
        "# print(python_list - 2)\n",
        "# In order to all every element use a for loop\n",
        "print(\"Python List: \")\n",
        "for number in python_list:\n",
        "  print(number - 2, end = \" \")\n",
        "print()\n",
        "# Subtraction in numpy_array will make every element subtracted by 2.\n",
        "print(\"Numpy array: \", numpy_array - 2)\n",
        "\n",
        "# Division in not possible in python_list. The following code will result in error\n",
        "# print(python_list / 2)\n",
        "# In order to all every element use a for loop\n",
        "print(\"Python List: \")\n",
        "for number in python_list:\n",
        "  print(number / 2, end = \" \")\n",
        "print()\n",
        "# Division in numpy_array will make every element divided by 2.\n",
        "print(\"Numpy array: \", numpy_array / 2)\n",
        "\n",
        "# Taking power in not possible in python_list. The following code will result in error\n",
        "# print(python_list ** 2)\n",
        "# In order to all every element use a for loop\n",
        "print(\"Python List: \")\n",
        "for number in python_list:\n",
        "  print(number ** 2, end = \" \")\n",
        "print()\n",
        "# Taking power in numpy array will result in every element with its power.\n",
        "print(\"Numpy array: \", numpy_array ** 2)"
      ],
      "metadata": {
        "colab": {
          "base_uri": "https://localhost:8080/"
        },
        "id": "uUtUcb1Kslev",
        "outputId": "d569d7e5-93e7-4203-aedc-439a4b7db7ce"
      },
      "execution_count": 42,
      "outputs": [
        {
          "output_type": "stream",
          "name": "stdout",
          "text": [
            "Python List:  [1, 2, 3, 4, 5, 1, 2, 3, 4, 5]\n",
            "Numpy array:  [ 2  4  6  8 10]\n",
            "Python List: \n",
            "3 4 5 6 7 \n",
            "Numpy array:  [3 4 5 6 7]\n",
            "Python List: \n",
            "-1 0 1 2 3 \n",
            "Numpy array:  [-1  0  1  2  3]\n",
            "Python List: \n",
            "0.5 1.0 1.5 2.0 2.5 \n",
            "Numpy array:  [0.5 1.  1.5 2.  2.5]\n",
            "Python List: \n",
            "1 4 9 16 25 \n",
            "Numpy array:  [ 1  4  9 16 25]\n"
          ]
        }
      ]
    },
    {
      "cell_type": "markdown",
      "source": [
        "3. Time comparision\n",
        "\n",
        "Numpy array are faster then normal python lists in creation and opeartion aswell"
      ],
      "metadata": {
        "id": "2btDhary2ix9"
      }
    },
    {
      "cell_type": "code",
      "source": [
        "import timeit\n",
        "import time"
      ],
      "metadata": {
        "id": "3YN6ZD38w60M"
      },
      "execution_count": 52,
      "outputs": []
    },
    {
      "cell_type": "code",
      "source": [
        "# Time in creation\n",
        "numpy_array = timeit.timeit(\"[1, 2, 3, 4, 5]\", number=1000000)\n",
        "python_list = timeit.timeit(\"np.array([1, 2, 3, 4, 5])\", setup=\"import numpy as np\", number=1000000)\n",
        "print(f\"Numpy array: {numpy_array}, Python List: {python_list}\")\n",
        "\n",
        "# Time in operation in python arrays\n",
        "python_list = [1, 2, 3, 4, 5]\n",
        "start_time = time.time()\n",
        "for number in python_list:\n",
        "  number = number ** 2\n",
        "total_time = time.time() - start_time\n",
        "print(\"Total time for python list: \", total_time * 100000)\n",
        "\n",
        "# Time in operation in numpy arrays\n",
        "numpy_array = np.array([1, 2, 3, 4, 5])\n",
        "start_time = time.time()\n",
        "numpy_array = numpy_array ** 2\n",
        "total_time = time.time() - start_time\n",
        "print(\"Total time for numpy array: \", total_time * 100000)"
      ],
      "metadata": {
        "colab": {
          "base_uri": "https://localhost:8080/"
        },
        "id": "sBYUegeI2lqy",
        "outputId": "b42a117d-d084-4d4c-8c7d-2ad82c52fb3f"
      },
      "execution_count": 59,
      "outputs": [
        {
          "output_type": "stream",
          "name": "stdout",
          "text": [
            "Numpy array: 0.10163653000017803, Python List: 0.9114566520001972\n",
            "Total time for python list:  9.083747863769531\n",
            "Total time for numpy array:  6.961822509765625\n"
          ]
        }
      ]
    },
    {
      "cell_type": "markdown",
      "source": [
        "# Creating multidimentional array in python"
      ],
      "metadata": {
        "id": "6wzgdgEm6wf9"
      }
    },
    {
      "cell_type": "code",
      "source": [
        "array_2d = np.array([[1, 2, 3, 4], [5, 6, 7, 8], [9, 10, 11, 12]])\n",
        "print(array_2d)\n",
        "list1 = [1, 2, 3, 4, 5]\n",
        "list2 = [6, 7, 8, 9, 10]\n",
        "list3 = [11, 12, 13, 14, 15]\n",
        "list4 = [16, 17, 18, 19, 20]\n",
        "array_2d = np.array([list1, list2, list3, list4])\n",
        "print(array_2d)\n",
        "\n",
        "print(np.arange(5, 10)) # 5 se la kar 10 tak excluding 10 (9 taq)\n",
        "print(np.linspace(1, 10, 3)) # 1 se lakr 10 taq 3 elements\n",
        "print(np.zeros((5, 5))) # 5 x 5 array with all fill with zeros\n",
        "print(np.full((5, 5), 34)) # 5 x 5 array with 34 element\n",
        "print(np.eye(5, 6)) # 5 x 6 Identical array\n",
        "\n",
        "arr = np.array([1, 2, 3, 4, 5])\n",
        "print(np.sum(arr)) # simple sum\n",
        "print(np.cumsum(arr)) # cumulative sum"
      ],
      "metadata": {
        "colab": {
          "base_uri": "https://localhost:8080/"
        },
        "id": "5-yShv_16wAS",
        "outputId": "a6886938-1817-4ef1-9e07-0861aa1ccc3b"
      },
      "execution_count": 206,
      "outputs": [
        {
          "output_type": "stream",
          "name": "stdout",
          "text": [
            "[[ 1  2  3  4]\n",
            " [ 5  6  7  8]\n",
            " [ 9 10 11 12]]\n",
            "[[ 1  2  3  4  5]\n",
            " [ 6  7  8  9 10]\n",
            " [11 12 13 14 15]\n",
            " [16 17 18 19 20]]\n",
            "[5 6 7 8 9]\n",
            "[ 1.   5.5 10. ]\n",
            "[[0. 0. 0. 0. 0.]\n",
            " [0. 0. 0. 0. 0.]\n",
            " [0. 0. 0. 0. 0.]\n",
            " [0. 0. 0. 0. 0.]\n",
            " [0. 0. 0. 0. 0.]]\n",
            "[[34 34 34 34 34]\n",
            " [34 34 34 34 34]\n",
            " [34 34 34 34 34]\n",
            " [34 34 34 34 34]\n",
            " [34 34 34 34 34]]\n",
            "[[1. 0. 0. 0. 0. 0.]\n",
            " [0. 1. 0. 0. 0. 0.]\n",
            " [0. 0. 1. 0. 0. 0.]\n",
            " [0. 0. 0. 1. 0. 0.]\n",
            " [0. 0. 0. 0. 1. 0.]]\n",
            "15\n",
            "[ 1  3  6 10 15]\n"
          ]
        }
      ]
    },
    {
      "cell_type": "markdown",
      "source": [
        "#Array slicing"
      ],
      "metadata": {
        "id": "FOTMXPnh2Z42"
      }
    },
    {
      "cell_type": "code",
      "source": [
        "#2d\n",
        "print(\"-\"*5)\n",
        "print(\"2D\")\n",
        "print(\"-\"*5)\n",
        "arr = np.array([[1, 2, 3], [6, 7, 8], [12, 12, 12], [3, 4, 76]])\n",
        "\n",
        "print(\"All rows, Starting from all columns and then till last(but not inlcuded)\")\n",
        "print(arr[:, :-1]) #All rows, Starting from all columns and then till last(but not inlcuded)\n",
        "print(\"All rows, Starting from second last column and then finishing till last\")\n",
        "print(arr[:, -2:]) #All rows, Starting from second last column and then finishing till last\n",
        "print(\"0 till 2(not inlcuded) row and then all columns\")\n",
        "print(arr[0:2, :]) #0 till 2(not inlcuded) row and then all columns\n",
        "print(\"0 till 3(not included) row and then 0 till 2 column(not included)\")\n",
        "print(arr[0:3, 0:2]) #0 till 3(not included) row and then 0 till 2 column(not included)\n",
        "\n",
        "#3d\n",
        "print(\"-\"*5)\n",
        "print(\"3D\")\n",
        "print(\"-\"*5)\n",
        "arr = np.array([\n",
        "    [\n",
        "        [1, 2, 3, 4, 5],\n",
        "        [6, 7, 8, 9, 10]\n",
        "    ],\n",
        "    [\n",
        "        [1, 2, 3, 4, 5],\n",
        "        [6, 7, 8, 9, 10]\n",
        "    ],\n",
        "    [\n",
        "        [1, 2, 3, 4, 5],\n",
        "        [6, 7, 8, 9, 10]\n",
        "    ]\n",
        "])\n",
        "\n",
        "print(\"All layers, Starting from second last row and then finishing till last, All column\")\n",
        "print(arr[:, -2:, :]) #All layers, Starting from second last row and then finishing till last, All column\n",
        "print(\"All layers, Starting from all row and then till last(but not inlcuded), All column\")\n",
        "print(arr[:, :-1, :]) #All layers, Starting from all row and then till last(but not inlcuded), All column\n",
        "print(\"0 till 3(not included) layers and then 0 till 2 row(not included), All column\")\n",
        "print(arr[0:3, 0:2, :]) #0 till 3(not included) layers and then 0 till 2 row(not included), All column\n",
        "print(\"0 till 2(not inlcuded) layers and then all row, All column\")\n",
        "print(arr[0:2, :, :]) #0 till 2(not inlcuded) layers and then all row, All column\n",
        "print(\"All layers, Starting from all row and then till last(but not inlcuded), column starting from third last till end\")\n",
        "print(arr[:, :-1, -3:]) #All layers, Starting from all row and then till last(but not inlcuded), column starting from third last till end\n",
        "print(\"All layers, Starting from second last row and then finishing till last, column starting from 2 and then till end\")\n",
        "print(arr[:, -2:, 2:]) #All layers, Starting from second last row and then finishing till last, column starting from 2 and then till end\n",
        "print(\"0 till 2(not inlcuded) layers and then all row, All starting columns and then till end excluding the last element\")\n",
        "print(arr[0:2, :, :-1]) #0 till 2(not inlcuded) layers and then all row, All starting columns and then till end excluding the last element\n",
        "print(\"0 till 3(not included) layers and then 0 till 2 row(not included), all columns starting from 0 to 2(not included)\")\n",
        "print(arr[0:3, 0:2, 0:2]) #0 till 3(not included) layers and then 0 till 2 row(not included), all columns starting from 0 to 2(not included)"
      ],
      "metadata": {
        "colab": {
          "base_uri": "https://localhost:8080/"
        },
        "id": "lN1TRNsT2ZS3",
        "outputId": "51b6bf95-73c6-4e96-ca70-a0aefba02de3"
      },
      "execution_count": 227,
      "outputs": [
        {
          "output_type": "stream",
          "name": "stdout",
          "text": [
            "-----\n",
            "2D\n",
            "-----\n",
            "All rows, Starting from all columns and then till last(but not inlcuded)\n",
            "[[ 1  2]\n",
            " [ 6  7]\n",
            " [12 12]\n",
            " [ 3  4]]\n",
            "All rows, Starting from second last column and then finishing till last\n",
            "[[ 2  3]\n",
            " [ 7  8]\n",
            " [12 12]\n",
            " [ 4 76]]\n",
            "0 till 2(not inlcuded) row and then all columns\n",
            "[[1 2 3]\n",
            " [6 7 8]]\n",
            "0 till 3(not included) row and then 0 till 2 column(not included)\n",
            "[[ 1  2]\n",
            " [ 6  7]\n",
            " [12 12]]\n",
            "-----\n",
            "3D\n",
            "-----\n",
            "All layers, Starting from second last row and then finishing till last, All column\n",
            "[[[ 1  2  3  4  5]\n",
            "  [ 6  7  8  9 10]]\n",
            "\n",
            " [[ 1  2  3  4  5]\n",
            "  [ 6  7  8  9 10]]\n",
            "\n",
            " [[ 1  2  3  4  5]\n",
            "  [ 6  7  8  9 10]]]\n",
            "All layers, Starting from all row and then till last(but not inlcuded), All column\n",
            "[[[1 2 3 4 5]]\n",
            "\n",
            " [[1 2 3 4 5]]\n",
            "\n",
            " [[1 2 3 4 5]]]\n",
            "0 till 3(not included) layers and then 0 till 2 row(not included), All column\n",
            "[[[ 1  2  3  4  5]\n",
            "  [ 6  7  8  9 10]]\n",
            "\n",
            " [[ 1  2  3  4  5]\n",
            "  [ 6  7  8  9 10]]\n",
            "\n",
            " [[ 1  2  3  4  5]\n",
            "  [ 6  7  8  9 10]]]\n",
            "0 till 2(not inlcuded) layers and then all row, All column\n",
            "[[[ 1  2  3  4  5]\n",
            "  [ 6  7  8  9 10]]\n",
            "\n",
            " [[ 1  2  3  4  5]\n",
            "  [ 6  7  8  9 10]]]\n",
            "All layers, Starting from all row and then till last(but not inlcuded), column starting from third last till end\n",
            "[[[3 4 5]]\n",
            "\n",
            " [[3 4 5]]\n",
            "\n",
            " [[3 4 5]]]\n",
            "All layers, Starting from second last row and then finishing till last, column starting from 2 and then till end\n",
            "[[[ 3  4  5]\n",
            "  [ 8  9 10]]\n",
            "\n",
            " [[ 3  4  5]\n",
            "  [ 8  9 10]]\n",
            "\n",
            " [[ 3  4  5]\n",
            "  [ 8  9 10]]]\n",
            "0 till 2(not inlcuded) layers and then all row, All starting columns and then till end excluding the last element\n",
            "[[[1 2 3 4]\n",
            "  [6 7 8 9]]\n",
            "\n",
            " [[1 2 3 4]\n",
            "  [6 7 8 9]]]\n",
            "0 till 3(not included) layers and then 0 till 2 row(not included), all columns starting from 0 to 2(not included)\n",
            "[[[1 2]\n",
            "  [6 7]]\n",
            "\n",
            " [[1 2]\n",
            "  [6 7]]\n",
            "\n",
            " [[1 2]\n",
            "  [6 7]]]\n"
          ]
        }
      ]
    },
    {
      "cell_type": "markdown",
      "source": [
        "#Some built in functions on numpy array"
      ],
      "metadata": {
        "id": "tE1GzaFgAy8H"
      }
    },
    {
      "cell_type": "code",
      "source": [
        "brr = np.array([[1,2,3], [4,5,6]])\n",
        "print(brr)\n",
        "print(brr.ndim) # NUMBER OF DIMENTIONS\n",
        "print(brr.shape) # ROWS , COLUMNS\n",
        "print(brr.dtype) # ITEM SIZE 32 BIT OR 64 BIT OR ELSE\n",
        "print(brr.itemsize) # ITEM SIZE IN BYTES(ONLY ONE)\n",
        "print(brr.size) # SIZE OF ARRAY(NUMBER OF DIGITS OR CHARECTERS OR STRING TYPE OR ELSE)\n",
        "print(brr.nbytes) # SUM OF NUMBER OF BYTES IN AN ARRAY"
      ],
      "metadata": {
        "colab": {
          "base_uri": "https://localhost:8080/"
        },
        "id": "xMJm03HD23ru",
        "outputId": "16f86498-5e23-4063-b5e5-f2b4203a19c1"
      },
      "execution_count": 93,
      "outputs": [
        {
          "output_type": "stream",
          "name": "stdout",
          "text": [
            "[[1 2 3]\n",
            " [4 5 6]]\n",
            "2\n",
            "(2, 3)\n",
            "int64\n",
            "8\n",
            "6\n",
            "48\n"
          ]
        }
      ]
    },
    {
      "cell_type": "code",
      "source": [
        "arr = np.array([1.93000, 2.3235, 3.15464, 25, 5])\n",
        "print(\"Min :\", np.min(arr))\n",
        "print(\"Max :\", np.max(arr))\n",
        "print(\"Sin :\", np.sin(arr))\n",
        "print(\"Cos :\", np.cos(arr))\n",
        "print(\"Tan :\", np.tan(arr))\n",
        "print(\"Tanh :\", np.tanh(arr))\n",
        "print(\"Sinh :\", np.sinh(arr))\n",
        "print(\"Cosh :\", np.cosh(arr))\n",
        "print(\"Log :\", np.log(arr)) # ln\n",
        "print(\"Log10 :\", np.log10(arr)) # log10\n",
        "print(\"Exp :\", np.exp(arr)) # e ^ every element\n",
        "print(\"Floor :\", np.floor(arr))\n",
        "print(\"Ceil :\", np.ceil(arr))\n",
        "print(\"Trunc :\", np.trunc(arr)) # remove decimal\n",
        "print(\"Power :\", np.power(arr, 2)) # arr elemt power 2\n",
        "print(\"Square root :\", np.sqrt(arr)) # square root\n",
        "print(\"Mean :\", np.mean(arr))\n",
        "print(\"Medain :\", np.median(arr))\n",
        "# Generating random number between 0 and 11\n",
        "random_number = np.random.randint(0, 11)\n",
        "print(\"Random number generated is: \", random_number)"
      ],
      "metadata": {
        "colab": {
          "base_uri": "https://localhost:8080/"
        },
        "id": "kxgEVyVjA38H",
        "outputId": "f26bc626-a8c8-45c8-b1ab-8c82ab27deeb"
      },
      "execution_count": 156,
      "outputs": [
        {
          "output_type": "stream",
          "name": "stdout",
          "text": [
            "Min : 1.93\n",
            "Max : 25.0\n",
            "Sin : [ 0.93617705  0.72984327 -0.01304698 -0.13235175 -0.95892427]\n",
            "Cos : [-0.35152884 -0.68361451 -0.99991488  0.99120281  0.28366219]\n",
            "Tan : [-2.66315858 -1.06762401  0.01304809 -0.13352641 -3.38051501]\n",
            "Tanh : [0.95873341 0.98100154 0.99636792 1.         0.9999092 ]\n",
            "Sinh : [3.37218102e+00 5.05671067e+00 1.17009709e+01 3.60024497e+10\n",
            " 7.42032106e+01]\n",
            "Cosh : [3.51732922e+00 5.15464090e+00 1.17436246e+01 3.60024497e+10\n",
            " 7.42099485e+01]\n",
            "Log : [0.65752    0.84307467 1.14887438 3.21887582 1.60943791]\n",
            "Log10 : [0.28555731 0.36614268 0.49894981 1.39794001 0.69897   ]\n",
            "Exp : [6.88951024e+00 1.02113516e+01 2.34445955e+01 7.20048993e+10\n",
            " 1.48413159e+02]\n",
            "Floor : [ 1.  2.  3. 25.  5.]\n",
            "Ceil : [ 2.  3.  4. 25.  5.]\n",
            "Trunc : [ 1.  2.  3. 25.  5.]\n",
            "Power : [  3.7249       5.39865225   9.95175353 625.          25.        ]\n",
            "Square root : [1.3892444  1.52430312 1.77613063 5.         2.23606798]\n",
            "Mean : 7.481628000000001\n",
            "Medain : 3.15464\n",
            "Random number generated is:  6\n"
          ]
        }
      ]
    },
    {
      "cell_type": "markdown",
      "source": [
        "# Sample project 1\n",
        "\n",
        "# Weather Data Analyzer\n",
        "Scenario: You are a data analyst for a small weather station. You've collected daily temperature data (in Celsius) for one week from seven different cities. Your task is to process and analyze this data.\n",
        "\n",
        "Convert to NumPy Array: Load the data into a NumPy array to begin your analysis.\n",
        "\n",
        "Overall Statistics: Calculate the overall average, maximum, and minimum temperature for the entire dataset.\n",
        "\n",
        "City Analysis: For each city (column), find:\n",
        "\n",
        "Its average weekly temperature.\n",
        "\n",
        "The day it experienced its highest temperature.\n",
        "\n",
        "Day Analysis: For each day (row), find:\n",
        "\n",
        "The average temperature across all cities.\n",
        "\n",
        "The city with the highest temperature that day.\n",
        "\n",
        "Find Anomalies: Identify any days where a city's temperature was more than 5 degrees above the overall average temperature for that specific city.\n",
        "\n",
        "Convert to Fahrenheit: The data needs to be sent to a US-based team. Create a new array with all temperatures converted to Fahrenheit."
      ],
      "metadata": {
        "id": "hQgTngzlKzLG"
      }
    },
    {
      "cell_type": "code",
      "source": [
        "#[city1, city2, city3, city4, city5, city6, city7]\n",
        "weekly_temps = [\n",
        "    [22, 25, 32, 31, 18, 27, 21], # day1\n",
        "    [24, 26, 21, 29, 19, 25, 23], # day2\n",
        "    [23, 27, 20, 29, 17, 28, 22], # day3\n",
        "    [25, 28, 22, 30, 20, 26, 24], # day4\n",
        "    [21, 24, 18, 28, 16, 24, 20]  # day5\n",
        "]\n"
      ],
      "metadata": {
        "id": "kRhFJ6AsJ2yU"
      },
      "execution_count": 141,
      "outputs": []
    },
    {
      "cell_type": "code",
      "source": [
        "numpy_array = np.array(weekly_temps)\n",
        "print(\"Overall minimum temperature: \", np.min(numpy_array))\n",
        "print(\"Overall maximum temperature: \", np.max(numpy_array))\n",
        "print(\"Overall average temperature: \", np.mean(numpy_array))"
      ],
      "metadata": {
        "colab": {
          "base_uri": "https://localhost:8080/"
        },
        "id": "dzQM9T1LLsSK",
        "outputId": "e06d870e-4e28-417f-f7f8-5783cd59c304"
      },
      "execution_count": 142,
      "outputs": [
        {
          "output_type": "stream",
          "name": "stdout",
          "text": [
            "Overall minimum temperature:  16\n",
            "Overall maximum temperature:  32\n",
            "Overall average temperature:  23.857142857142858\n"
          ]
        }
      ]
    },
    {
      "cell_type": "code",
      "source": [
        "print(\"Average city temperature by week\")\n",
        "print(np.mean(numpy_array, axis=0)) # Axis = 0 means columns\n",
        "print(\"The day they experienced the highest temperature\")\n",
        "print(np.argmax(numpy_array, axis=0)) # Axis = 1 means row"
      ],
      "metadata": {
        "colab": {
          "base_uri": "https://localhost:8080/"
        },
        "id": "CkHwUNvmMvQR",
        "outputId": "3f00b525-6888-4d9f-c399-9065036b7a70"
      },
      "execution_count": 143,
      "outputs": [
        {
          "output_type": "stream",
          "name": "stdout",
          "text": [
            "Average city temperature by week\n",
            "[23.  26.  22.6 29.4 18.  26.  22. ]\n",
            "The day they experienced the highest temperature\n",
            "[3 3 0 0 3 2 3]\n"
          ]
        }
      ]
    },
    {
      "cell_type": "code",
      "source": [
        "print(\"Average temperature by day\")\n",
        "print(np.mean(numpy_array, axis=1))\n",
        "print(\"The city with the highest temperature that day\")\n",
        "print(np.argmax(numpy_array, axis=1))"
      ],
      "metadata": {
        "colab": {
          "base_uri": "https://localhost:8080/"
        },
        "id": "FHRhpgZqM6ki",
        "outputId": "572c68f5-22c8-41ff-c9f2-94a1988be754"
      },
      "execution_count": 144,
      "outputs": [
        {
          "output_type": "stream",
          "name": "stdout",
          "text": [
            "Average temperature by day\n",
            "[25.14285714 23.85714286 23.71428571 25.         21.57142857]\n",
            "The city with the highest temperature that day\n",
            "[2 3 3 3 3]\n"
          ]
        }
      ]
    },
    {
      "cell_type": "code",
      "source": [
        "current_day = 1\n",
        "days = []\n",
        "day_found = False\n",
        "for day_temp in numpy_array:\n",
        "  print(\"Average temperature of the day is: \", np.mean(day_temp))\n",
        "  for temp in day_temp:\n",
        "    if temp > (np.mean(day_temp) + 5):\n",
        "      day_found = True\n",
        "      days.append(current_day)\n",
        "      current_day += 1\n",
        "      break\n",
        "  if day_found:\n",
        "    day_found = False\n",
        "  else:\n",
        "    current_day += 1\n",
        "print(\"Days with temperature more then 5 degrees then average are: \", days)"
      ],
      "metadata": {
        "colab": {
          "base_uri": "https://localhost:8080/"
        },
        "id": "hsgoL0LLPBXY",
        "outputId": "e3644a42-411d-4a20-b034-a0f628fe27e5"
      },
      "execution_count": 148,
      "outputs": [
        {
          "output_type": "stream",
          "name": "stdout",
          "text": [
            "Average temperature of the day is:  25.142857142857142\n",
            "Average temperature of the day is:  23.857142857142858\n",
            "Average temperature of the day is:  23.714285714285715\n",
            "Average temperature of the day is:  25.0\n",
            "Average temperature of the day is:  21.571428571428573\n",
            "Days with temperature more then 5 degrees then average are:  [1, 2, 3, 5]\n"
          ]
        }
      ]
    },
    {
      "cell_type": "code",
      "source": [
        "def convert_temperature_into_farenheight(temperatures):\n",
        "  return (temperatures * 9/5) + 32"
      ],
      "metadata": {
        "id": "GUxcMudwQ5x6"
      },
      "execution_count": 149,
      "outputs": []
    },
    {
      "cell_type": "code",
      "source": [
        "print(convert_temperature_into_farenheight(numpy_array))"
      ],
      "metadata": {
        "colab": {
          "base_uri": "https://localhost:8080/"
        },
        "id": "pMnFY2ELTokP",
        "outputId": "7fa568e2-1c1e-4558-bb07-eba82d3e17d0"
      },
      "execution_count": 151,
      "outputs": [
        {
          "output_type": "stream",
          "name": "stdout",
          "text": [
            "[[71.6 77.  89.6 87.8 64.4 80.6 69.8]\n",
            " [75.2 78.8 69.8 84.2 66.2 77.  73.4]\n",
            " [73.4 80.6 68.  84.2 62.6 82.4 71.6]\n",
            " [77.  82.4 71.6 86.  68.  78.8 75.2]\n",
            " [69.8 75.2 64.4 82.4 60.8 75.2 68. ]]\n"
          ]
        }
      ]
    },
    {
      "cell_type": "markdown",
      "source": [
        "#Sample project 2\n",
        "\n",
        "Project: Student Gradebook Analyzer\n",
        "Scenario: You're a teacher with a gradebook for your class. You need to analyze student performance across multiple subjects and assignments.\n",
        "\n",
        "Your raw data is a 2D NumPy array where:\n",
        "\n",
        "Each row represents a student\n",
        "\n",
        "Each column represents a subject (Math, Science, English, History)\n",
        "\n",
        "Calculate Overall Statistics: Find the class average, highest score, and lowest score across all subjects.\n",
        "\n",
        "Subject Analysis: For each subject, calculate the average, highest, and lowest score.\n",
        "\n",
        "Student Performance: For each student, calculate their average grade across all subjects.\n",
        "\n",
        "Find Top Performers: Identify which student has the highest average grade.\n",
        "\n",
        "Pass/Fail Analysis: Count how many students passed each subject (passing grade ≥ 70).\n",
        "\n",
        "Grade Adjustment: Add 5 points to every Math grade (but don't let any score exceed 100).\n",
        "\n",
        "Find Consistency: Calculate the standard deviation for each student (how consistent their grades are across subjects)."
      ],
      "metadata": {
        "id": "zhjxXHVfq27P"
      }
    },
    {
      "cell_type": "code",
      "source": [
        "# Subjects: [Math, Science, English, History]\n",
        "grades = np.array([\n",
        "    [85, 92, 78, 88],  # Student 0\n",
        "    [67, 75, 82, 79],  # Student 1\n",
        "    [91, 89, 93, 87],  # Student 2\n",
        "    [55, 62, 70, 68],  # Student 3\n",
        "    [78, 85, 80, 84]   # Student 4\n",
        "])"
      ],
      "metadata": {
        "id": "516SZ4EqT1Je"
      },
      "execution_count": 194,
      "outputs": []
    },
    {
      "cell_type": "code",
      "source": [
        "# Calculate Overall Statistics: Find the class average, highest score, and lowest score across all subjects.\n",
        "print(\"Class average: \", np.mean(grades))\n",
        "print(\"Class highest score: \", np.max(grades))\n",
        "print(\"Class lowest score: \", np.min(grades))"
      ],
      "metadata": {
        "colab": {
          "base_uri": "https://localhost:8080/"
        },
        "id": "qx4Zl0VldB-v",
        "outputId": "d7cfa1cb-8fa1-46f8-852d-b132d7edd9e9"
      },
      "execution_count": 195,
      "outputs": [
        {
          "output_type": "stream",
          "name": "stdout",
          "text": [
            "Class average:  79.4\n",
            "Class highest score:  93\n",
            "Class lowest score:  55\n"
          ]
        }
      ]
    },
    {
      "cell_type": "code",
      "source": [
        "# Subject Analysis: For each subject, calculate the average, highest, and lowest score\n",
        "print(\"Average of each subject: \", np.mean(grades, axis=0))\n",
        "print(\"Maximum of each subject: \", np.max(grades, axis=0))\n",
        "print(\"Minimum of each subject: \", np.min(grades, axis=0))"
      ],
      "metadata": {
        "colab": {
          "base_uri": "https://localhost:8080/"
        },
        "id": "tIGfI48RrotS",
        "outputId": "3ddfd1af-1eef-4672-ce20-4c2d75bd99a3"
      },
      "execution_count": 197,
      "outputs": [
        {
          "output_type": "stream",
          "name": "stdout",
          "text": [
            "Average of each subject:  [75.2 80.6 80.6 81.2]\n",
            "Maximum of each subject:  [91 92 93 88]\n",
            "Minimum of each subject:  [55 62 70 68]\n"
          ]
        }
      ]
    },
    {
      "cell_type": "code",
      "source": [
        "# Student Performance: For each student, calculate their average grade across all subjects.\n",
        "print(\"Average of each student: \", np.mean(grades, axis=1))\n",
        "print(\"Maximum of each student: \", np.max(grades, axis=1))\n",
        "print(\"Minimum of each student: \", np.min(grades, axis=1))\n"
      ],
      "metadata": {
        "colab": {
          "base_uri": "https://localhost:8080/"
        },
        "id": "DX8bpooqsH0z",
        "outputId": "acba0c31-f214-4f65-b361-4ef46806915d"
      },
      "execution_count": 198,
      "outputs": [
        {
          "output_type": "stream",
          "name": "stdout",
          "text": [
            "Average of each student:  [85.75 75.75 90.   63.75 81.75]\n",
            "Maximum of each student:  [92 82 93 70 85]\n",
            "Minimum of each student:  [78 67 87 55 78]\n"
          ]
        }
      ]
    },
    {
      "cell_type": "code",
      "source": [
        "# Find Top Performers: Identify which student has the highest average grade.\n",
        "print(\"Student with highest average grade: \", np.argmax(np.mean(grades, axis=1)))"
      ],
      "metadata": {
        "colab": {
          "base_uri": "https://localhost:8080/"
        },
        "id": "QndEqoYLtZDF",
        "outputId": "5e5a5970-6dd7-4e67-95a1-eb878bf90e4e"
      },
      "execution_count": 199,
      "outputs": [
        {
          "output_type": "stream",
          "name": "stdout",
          "text": [
            "Student with highest average grade:  2\n"
          ]
        }
      ]
    },
    {
      "cell_type": "code",
      "source": [
        "# Pass/Fail Analysis: Count how many students passed each subject (passing grade ≥ 70).\n",
        "print(\"Number of students passed each subject: \", np.sum(grades >= 70, axis=0))\n",
        "#first element is subject1, second element is subject2, third element is subject3 and so in"
      ],
      "metadata": {
        "colab": {
          "base_uri": "https://localhost:8080/"
        },
        "id": "gapMkeGft2Tn",
        "outputId": "0409638e-caba-4fa9-a174-8fde8a11f7de"
      },
      "execution_count": 201,
      "outputs": [
        {
          "output_type": "stream",
          "name": "stdout",
          "text": [
            "Number of students passed each subject:  [3 4 5 4]\n"
          ]
        }
      ]
    },
    {
      "cell_type": "code",
      "source": [
        "# Grade Adjustment: Add 5 points to every Math grade (but don't let any score exceed 100).\n",
        "for student in grades:\n",
        "  if student[0] < 100:\n",
        "    student[0] += 5\n",
        "print(grades)"
      ],
      "metadata": {
        "colab": {
          "base_uri": "https://localhost:8080/"
        },
        "id": "D1wf-uOZuxDn",
        "outputId": "ecf37b38-f4ff-46bc-a946-653fe2623575"
      },
      "execution_count": 202,
      "outputs": [
        {
          "output_type": "stream",
          "name": "stdout",
          "text": [
            "[[90 92 78 88]\n",
            " [72 75 82 79]\n",
            " [96 89 93 87]\n",
            " [60 62 70 68]\n",
            " [83 85 80 84]]\n"
          ]
        }
      ]
    },
    {
      "cell_type": "code",
      "source": [
        "# Find Consistency: Calculate the standard deviation for each student (how consistent their grades are across subjects).\n",
        "print(\"Standard deviation of each student: \", np.std(grades, axis=1))"
      ],
      "metadata": {
        "colab": {
          "base_uri": "https://localhost:8080/"
        },
        "id": "YvxB4Sz0vxfB",
        "outputId": "668f2693-0114-49ab-dd83-45c235c1b25d"
      },
      "execution_count": 205,
      "outputs": [
        {
          "output_type": "stream",
          "name": "stdout",
          "text": [
            "Standard deviation of each student:  [5.38516481 3.80788655 3.49106001 4.12310563 1.87082869]\n"
          ]
        }
      ]
    },
    {
      "cell_type": "code",
      "source": [
        "arr = np.array([1, 2, 3, 4, 5])\n",
        "brr = np.array([6, 7, 8, 9, 10])\n",
        "\n",
        "print(np.hstack((arr, brr)))\n",
        "print(np.vstack((arr, brr)))"
      ],
      "metadata": {
        "colab": {
          "base_uri": "https://localhost:8080/"
        },
        "id": "-KTjQQ1Fv27C",
        "outputId": "fd4bf340-9ccd-4e22-e3bb-60a272c4a4f9"
      },
      "execution_count": 232,
      "outputs": [
        {
          "output_type": "stream",
          "name": "stdout",
          "text": [
            "[ 1  2  3  4  5  6  7  8  9 10]\n",
            "[[ 1  2  3  4  5]\n",
            " [ 6  7  8  9 10]]\n"
          ]
        }
      ]
    },
    {
      "cell_type": "code",
      "source": [],
      "metadata": {
        "id": "tgr5idErEPrU"
      },
      "execution_count": null,
      "outputs": []
    }
  ]
}