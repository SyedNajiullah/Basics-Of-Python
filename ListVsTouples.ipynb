{
  "cells": [
    {
      "cell_type": "markdown",
      "source": [
        "#List are Mutable Touples are not mutable"
      ],
      "metadata": {
        "id": "kx7rkefB3y9Z"
      }
    },
    {
      "cell_type": "code",
      "source": [
        "my_list = [1, 2, 3]\n",
        "print(my_list, end = \" \")\n",
        "my_list[0] = 10\n",
        "print(my_list, end = \" \")\n",
        "my_list.append(4)\n",
        "print(my_list, end = \" \")\n",
        "my_list.remove(2)\n",
        "print(my_list)"
      ],
      "metadata": {
        "colab": {
          "base_uri": "https://localhost:8080/"
        },
        "id": "I42p4Kwp2yuB",
        "outputId": "5cd40d98-22d2-4158-e77b-b26c6d99db86"
      },
      "execution_count": 7,
      "outputs": [
        {
          "output_type": "stream",
          "name": "stdout",
          "text": [
            "[1, 2, 3] [10, 2, 3] [10, 2, 3, 4] [10, 3, 4]\n"
          ]
        }
      ]
    },
    {
      "cell_type": "markdown",
      "source": [
        "#Touples are not mutable"
      ],
      "metadata": {
        "id": "9ulIe_-J39rc"
      }
    },
    {
      "cell_type": "code",
      "source": [
        "my_tuple = (1, 2, 3)\n",
        "my_tuple[0] = 10 #This results in an error\n",
        "my_tuple.append(4) #This results in an error"
      ],
      "metadata": {
        "id": "HIJ1h2YP38p2"
      },
      "execution_count": 10,
      "outputs": []
    },
    {
      "cell_type": "markdown",
      "source": [
        "#One list can store more then one data types\n"
      ],
      "metadata": {
        "id": "sRE-68mj8mSy"
      }
    },
    {
      "cell_type": "code",
      "source": [
        "template_list = [1, True, 0.321, False, 'A' , None, \"String\"]\n",
        "template_list"
      ],
      "metadata": {
        "colab": {
          "base_uri": "https://localhost:8080/"
        },
        "id": "3s6-2VQW8l37",
        "outputId": "ae3fe797-061b-4318-d120-9a0b2f12bfb5"
      },
      "execution_count": 20,
      "outputs": [
        {
          "output_type": "execute_result",
          "data": {
            "text/plain": [
              "[1, True, 0.321, False, 'A', None, 'String']"
            ]
          },
          "metadata": {},
          "execution_count": 20
        }
      ]
    },
    {
      "cell_type": "code",
      "source": [
        "template_touple = (1, True, 0.321, False, 'A' , None, \"String\")\n",
        "template_touple"
      ],
      "metadata": {
        "colab": {
          "base_uri": "https://localhost:8080/"
        },
        "id": "IMVkENA78_4E",
        "outputId": "70426c5d-9642-4379-f7b5-7b0840de1717"
      },
      "execution_count": 21,
      "outputs": [
        {
          "output_type": "execute_result",
          "data": {
            "text/plain": [
              "(1, True, 0.321, False, 'A', None, 'String')"
            ]
          },
          "metadata": {},
          "execution_count": 21
        }
      ]
    },
    {
      "cell_type": "markdown",
      "source": [
        "# Time performance\n",
        "#Reason\n",
        "\n",
        "-> Touples are immutable. So because of this they donot require more memory to when they are created. List on the other hand has append(), remove() functions which requires more space when creating them as new elements can be inserted\n",
        "\n",
        "-> Touples are stored in continuous memory locations but lists donot gurentee to be stored in continuous memory location because if a new number is added in the array of memory woth no space then it has to be shifted into some other new space which makes it less memory efficient\n",
        "\n",
        "Touples are faster then list in creation"
      ],
      "metadata": {
        "id": "aA0JhlV-5XOm"
      }
    },
    {
      "cell_type": "code",
      "source": [
        "import timeit\n",
        "\n",
        "list_time = timeit.timeit('[1, 2, 3, 4, 5]', number = 100000000)\n",
        "touple_time = timeit.timeit(\"(1, 2, 3, 4, 5)\", number = 100000000)\n",
        "print(f\"{list_time:.4f}, {touple_time:.4f}\", sep=\", \")"
      ],
      "metadata": {
        "colab": {
          "base_uri": "https://localhost:8080/"
        },
        "id": "N50qZZ5R3FEL",
        "outputId": "527aad6b-6314-4aba-feec-334dc1f6e502"
      },
      "execution_count": 18,
      "outputs": [
        {
          "output_type": "stream",
          "name": "stdout",
          "text": [
            "5.9075, 1.0564\n"
          ]
        }
      ]
    },
    {
      "cell_type": "markdown",
      "source": [
        "Touples are faster then list in iteration"
      ],
      "metadata": {
        "id": "e0BJB-8e9l9C"
      }
    },
    {
      "cell_type": "code",
      "source": [
        "list_iteration = timeit.timeit('for x in l: pass', setup='l=[1,2,3,4,5,6,7,8,9,10]', number=1000000)\n",
        "tuple_iteration = timeit.timeit('for x in t: pass',  setup='t=(1,2,3,4,5,6,7,8,9,10)', number=1000000)\n",
        "print(f\"{list_iteration:.4f}, {tuple_iteration:.4f}\", sep=\", \")"
      ],
      "metadata": {
        "colab": {
          "base_uri": "https://localhost:8080/"
        },
        "id": "YlUUHKLz4kJz",
        "outputId": "23655b96-dbe8-412d-947e-7aa0661dcdd9"
      },
      "execution_count": 22,
      "outputs": [
        {
          "output_type": "stream",
          "name": "stdout",
          "text": [
            "0.3729, 0.2414\n"
          ]
        }
      ]
    },
    {
      "cell_type": "markdown",
      "source": [
        "Touples are faster then list Element acces speed"
      ],
      "metadata": {
        "id": "5dvJcNd_-YZN"
      }
    },
    {
      "cell_type": "code",
      "source": [
        "list_iteration = timeit.timeit('l[2]', setup='l=[1,2,3,4,5,6,7,8,9,10]', number=1000000)\n",
        "tuple_iteration = timeit.timeit('t[2]',  setup='t=(1,2,3,4,5,6,7,8,9,10)', number=1000000)\n",
        "print(f\"{list_iteration:.4f}, {tuple_iteration:.4f}\", sep=\", \")"
      ],
      "metadata": {
        "colab": {
          "base_uri": "https://localhost:8080/"
        },
        "id": "3KHAqnC6-AIO",
        "outputId": "e1a94b62-3f2e-47fc-cad9-e73196d16714"
      },
      "execution_count": 23,
      "outputs": [
        {
          "output_type": "stream",
          "name": "stdout",
          "text": [
            "0.0364, 0.0316\n"
          ]
        }
      ]
    },
    {
      "cell_type": "markdown",
      "source": [
        "Touples are faster then array in length check"
      ],
      "metadata": {
        "id": "Sc8QzMaz_fZ2"
      }
    },
    {
      "cell_type": "code",
      "source": [
        "list_iteration = timeit.timeit('len(l)', setup='l=[1,2,3,4,5,6,7,8,9,10]', number=1000000)\n",
        "tuple_iteration = timeit.timeit('len(t)',  setup='t=(1,2,3,4,5,6,7,8,9,10)', number=1000000)\n",
        "print(f\"{list_iteration:.4f}, {tuple_iteration:.4f}\", sep=\", \")"
      ],
      "metadata": {
        "colab": {
          "base_uri": "https://localhost:8080/"
        },
        "id": "A5DGnwiA-fiX",
        "outputId": "17be63fe-38ef-45d4-9bd7-d9e4fd0c130c"
      },
      "execution_count": 24,
      "outputs": [
        {
          "output_type": "stream",
          "name": "stdout",
          "text": [
            "0.0317, 0.0272\n"
          ]
        }
      ]
    },
    {
      "cell_type": "markdown",
      "source": [
        "# Touples can be used as keys but list cannot be used as keys in dictionaries\n",
        "\n",
        "The idea of keys is that they are ment to me unique and cannot be changed. So when tuples are used as keys then they are never change so that is why they are allowed as keys is dictionaries. But when list is used then list can be changes so list donot satify the condition of it being used as a key."
      ],
      "metadata": {
        "id": "R0qxnc08Dh5g"
      }
    },
    {
      "cell_type": "code",
      "source": [
        "dictionary = {\n",
        "    (4, 5, 6): \"Touple\",\n",
        "    #[1 ,2, 3]: \"Array\",  # This results an error\n",
        "}"
      ],
      "metadata": {
        "id": "5ymKtaQi_dIb"
      },
      "execution_count": 29,
      "outputs": []
    },
    {
      "cell_type": "markdown",
      "source": [
        "#Some other usefull functions"
      ],
      "metadata": {
        "id": "gvlXfkm5KiIG"
      }
    },
    {
      "cell_type": "code",
      "source": [
        "temp_list = [3, 4, 5, 1, 2]\n",
        "print(temp_list, end = \" \")\n",
        "\n",
        "temp_list.append(6)\n",
        "print(temp_list, end = \" \")\n",
        "\n",
        "temp_list.pop()\n",
        "print(temp_list, end = \" \")\n",
        "\n",
        "temp_list.insert(0, 0) # location, number\n",
        "print(temp_list, end = \" \")\n",
        "\n",
        "temp_list.pop(1) # pop by inedx\n",
        "print(temp_list)\n",
        "\n",
        "result = 3 in temp_list\n",
        "print(result)\n",
        "\n",
        "my_list = [3, 1, 4, 1, 5]\n",
        "my_list.sort()\n",
        "print(my_list, end = \" \")\n",
        "\n",
        "my_list.reverse()\n",
        "print(my_list, end = \" \")\n",
        "\n",
        "new_list = my_list.copy() # Copy the list\n",
        "print(my_list, end = \" \")\n",
        "\n",
        "words = [\"hello\", \"world\"]\n",
        "sentence = \" \".join(words)  # \"hello world\"\n",
        "print(sentence)\n",
        "\n",
        "my_list.clear() # Clear all elements\n",
        "print(my_list, end = \" \")"
      ],
      "metadata": {
        "colab": {
          "base_uri": "https://localhost:8080/"
        },
        "id": "GnWQbF8FDTPp",
        "outputId": "0fc717f5-0f26-4b72-ad63-50dda5957dbd"
      },
      "execution_count": 41,
      "outputs": [
        {
          "output_type": "stream",
          "name": "stdout",
          "text": [
            "[3, 4, 5, 1, 2] [3, 4, 5, 1, 2, 6] [3, 4, 5, 1, 2] [0, 3, 4, 5, 1, 2] [0, 4, 5, 1, 2]\n",
            "False\n",
            "[1, 1, 3, 4, 5] [5, 4, 3, 1, 1] [5, 4, 3, 1, 1] hello world\n",
            "[] "
          ]
        }
      ]
    },
    {
      "cell_type": "code",
      "source": [],
      "metadata": {
        "id": "uq3jGhWbLIY_"
      },
      "execution_count": null,
      "outputs": []
    }
  ],
  "metadata": {
    "colab": {
      "provenance": []
    },
    "kernelspec": {
      "display_name": "Python 3",
      "name": "python3"
    },
    "language_info": {
      "name": "python"
    }
  },
  "nbformat": 4,
  "nbformat_minor": 0
}